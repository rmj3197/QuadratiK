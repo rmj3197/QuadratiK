{
 "cells": [
  {
   "cell_type": "markdown",
   "metadata": {},
   "source": [
    "# Random sampling from the Poisson kernel-based density"
   ]
  },
  {
   "cell_type": "markdown",
   "metadata": {},
   "source": [
    "In this example, we generate observations from the Poisson kernel-based \n",
    "distribution on the sphere, $S^{d-1}$. \n",
    "We consider mean direction $\\mu=(0,0,1)$, $d=3$ and the concentration\n",
    "parameter is $\\rho = 0.8$. We sampled $n=1000$ observations for each method available."
   ]
  },
  {
   "cell_type": "code",
   "execution_count": 1,
   "metadata": {},
   "outputs": [],
   "source": [
    "from QuadratiK.spherical_clustering import PKBD\n",
    "\n",
    "pkbd = PKBD()\n",
    "x_rejvmf = pkbd.rpkb(1000, [0, 1, 1], 0.8, \"rejvmf\", random_state=42)\n",
    "x_rejacg = pkbd.rpkb(1000, [0, 1, 1], 0.8, \"rejacg\", random_state=42)"
   ]
  },
  {
   "cell_type": "code",
   "execution_count": null,
   "metadata": {},
   "outputs": [],
   "source": [
    "%matplotlib inline\n",
    "import matplotlib.pyplot as plt\n",
    "import numpy as np\n",
    "\n",
    "# Create a sphere\n",
    "r = 1\n",
    "pi = np.pi\n",
    "cos = np.cos\n",
    "sin = np.sin\n",
    "phi, theta = np.mgrid[0.0:pi:100j, 0.0 : 2.0 * pi : 100j]\n",
    "x = r * sin(phi) * cos(theta)\n",
    "y = r * sin(phi) * sin(theta)\n",
    "z = r * cos(phi)\n",
    "\n",
    "# Import data\n",
    "data1 = x_rejvmf\n",
    "data2 = x_rejacg\n",
    "xx1, yy1, zz1 = np.hsplit(data1, 3)\n",
    "xx2, yy2, zz2 = np.hsplit(data2, 3)\n",
    "\n",
    "# Set colours and render\n",
    "fig = plt.figure(figsize=(8, 8))\n",
    "ax = fig.add_subplot(111, projection=\"3d\")\n",
    "\n",
    "ax.plot_surface(x, y, z, rstride=1, cstride=1, color=\"white\", alpha=0.6, linewidth=0)\n",
    "\n",
    "ax.scatter(xx1, yy1, zz1, color=\"b\", s=20, label=\"rejvmf\")\n",
    "ax.scatter(xx2, yy2, zz2, color=\"red\", s=20, label=\"rejacg\")\n",
    "\n",
    "ax.set_xlim([-1, 1])\n",
    "ax.set_ylim([-1, 1])\n",
    "ax.set_zlim([-1, 1])\n",
    "ax.set_aspect(\"equal\")\n",
    "plt.legend(loc=\"center right\")\n",
    "plt.tight_layout()\n",
    "plt.axis(\"off\")\n",
    "plt.show()\n",
    "# plt.savefig(\"rpkb.png\",dpi = 600,bbox_inches='tight',pad_inches = 0)"
   ]
  }
 ],
 "metadata": {
  "kernelspec": {
   "display_name": "base",
   "language": "python",
   "name": "python3"
  },
  "language_info": {
   "codemirror_mode": {
    "name": "ipython",
    "version": 3
   },
   "file_extension": ".py",
   "mimetype": "text/x-python",
   "name": "python",
   "nbconvert_exporter": "python",
   "pygments_lexer": "ipython3",
   "version": "3.10.12"
  }
 },
 "nbformat": 4,
 "nbformat_minor": 2
}
