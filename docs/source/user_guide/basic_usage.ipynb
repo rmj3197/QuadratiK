{
 "cells": [
  {
   "cell_type": "markdown",
   "metadata": {},
   "source": [
    "# Usage Examples for `QuadratiK` in Python\n",
    "Authors : Giovanni Saraceno, Marianthi Markatou, Raktim Mukhopadhyay, Mojgan Golzy\n",
    "\n",
    "Date Modified: 20 February 2025"
   ]
  },
  {
   "cell_type": "markdown",
   "metadata": {},
   "source": [
    "### Note on Matplotlib Usage\n",
    "\n",
    "Matplotlib behaves differently in interactive environments (like Jupyter Notebook) versus non-interactive environments (like Python terminal):\n",
    "\n",
    "1. In Jupyter Notebook:\n",
    "   - Plots display automatically after cell execution\n",
    "   - No explicit plt.show() is needed\n",
    "\n",
    "2. In Python Terminal:\n",
    "   - Need to explicitly call plt.show() to display plots, OR\n",
    "   - May use plt.ion() for interactive mode\n",
    "\n",
    "3. **Throughout this notebook, we provide two versions of plotting code**:\n",
    "    - *One that works directly in Jupyter (default).*\n",
    "    - *One in comments that works in Python terminal (needs uncommenting).*\n",
    "\n",
    "For a detailed example, please see:\n",
    "https://github.com/statsmodels/statsmodels/issues/1265\n",
    "\n",
    "**The code in this notebook has been tested in Jupyter Notebook.**"
   ]
  },
  {
   "cell_type": "markdown",
   "metadata": {},
   "source": [
    "## Introduction"
   ]
  },
  {
   "cell_type": "markdown",
   "metadata": {},
   "source": [
    "This document contains various Python examples illustrating the use of `QuadratiK`"
   ]
  },
  {
   "cell_type": "markdown",
   "metadata": {},
   "source": [
    "### Installation"
   ]
  },
  {
   "cell_type": "markdown",
   "metadata": {},
   "source": [
    "The python package QuadratiK and other necessary packages must be installed. "
   ]
  },
  {
   "cell_type": "markdown",
   "metadata": {},
   "source": [
    "## Normality Test"
   ]
  },
  {
   "cell_type": "markdown",
   "metadata": {},
   "source": [
    "Click here to download the `Python` script for this example: [normality_test.py](py_scripts/normality_test.py)"
   ]
  },
  {
   "cell_type": "markdown",
   "metadata": {},
   "source": [
    "We illustrate the usage of the introduced KernelTest for the Normality\n",
    "test. We generate one sample from a multivariate standard Normal distribution, that is $x = (x_1, . . . , x_n)$ ∼\n",
    "$N_d(0, I_d)$ with dimension $d = 4$, and sample size $n = 500$."
   ]
  },
  {
   "cell_type": "code",
   "execution_count": null,
   "metadata": {},
   "outputs": [],
   "source": [
    "import numpy as np\n",
    "\n",
    "np.random.seed(78990)\n",
    "from QuadratiK.kernel_test import KernelTest\n",
    "\n",
    "# data generation\n",
    "data_norm = np.random.multivariate_normal(mean=np.zeros(4), cov=np.eye(4), size=500)\n",
    "\n",
    "# performing the normality test\n",
    "normality_test = KernelTest(\n",
    "    h=0.4, num_iter=150, method=\"subsampling\", random_state=42\n",
    ").test(data_norm)\n",
    "\n",
    "# printing the summary for normality test\n",
    "print(normality_test.summary())"
   ]
  },
  {
   "cell_type": "markdown",
   "metadata": {},
   "source": [
    "## K-Sample Test"
   ]
  },
  {
   "cell_type": "markdown",
   "metadata": {},
   "source": [
    "Click here to download the `Python` script for this example: [k_sample_test.py](py_scripts/k_sample_test.py)"
   ]
  },
  {
   "cell_type": "markdown",
   "metadata": {},
   "source": [
    "We generate three samples, with $n=200$ observations each, from a 2-dimensional Gaussian distributions with mean vectors $\\mu_1 = (0, \\sqrt(3)/3)$, $\\mu_2 = (-1/2, -\\sqrt(3)/6)$ and  $\\mu_3 = (1/2, \\sqrt(3)/6)$, and the Identity matrix as Covariance matrix.  "
   ]
  },
  {
   "cell_type": "code",
   "execution_count": null,
   "metadata": {},
   "outputs": [],
   "source": [
    "import numpy as np\n",
    "\n",
    "np.random.seed(0)\n",
    "from QuadratiK.kernel_test import KernelTest\n",
    "\n",
    "size = 200\n",
    "eps = 1\n",
    "x1 = np.random.multivariate_normal(\n",
    "    mean=[0, np.sqrt(3) * eps / 3], cov=np.eye(2), size=size\n",
    ")\n",
    "x2 = np.random.multivariate_normal(\n",
    "    mean=[-eps / 2, -np.sqrt(3) * eps / 6], cov=np.eye(2), size=size\n",
    ")\n",
    "x3 = np.random.multivariate_normal(\n",
    "    mean=[eps / 2, -np.sqrt(3) * eps / 6], cov=np.eye(2), size=size\n",
    ")\n",
    "# Merge the three samples into a single dataset\n",
    "X_k = np.concatenate([x1, x2, x3])\n",
    "# The memberships are needed for k-sample test\n",
    "y_k = np.repeat(np.array([1, 2, 3]), size).reshape(-1, 1)\n",
    "\n",
    "# performing the k-sample test\n",
    "k_sample_test = KernelTest(h=1.5, method=\"subsampling\", random_state=42).test(X_k, y_k)\n",
    "\n",
    "# printing the summary for the k-sample test\n",
    "print(k_sample_test.summary())"
   ]
  },
  {
   "cell_type": "markdown",
   "metadata": {},
   "source": [
    "## Two-Sample Test\n"
   ]
  },
  {
   "cell_type": "markdown",
   "metadata": {},
   "source": [
    "Click here to download the `Python` script for this example: [two_sample_test.py](py_scripts/two_sample_test.py)"
   ]
  },
  {
   "cell_type": "markdown",
   "metadata": {},
   "source": [
    "This example shows the application of the two-sample test. \n",
    "Instead of providing the vector of membership to the two groups as for the \n",
    "k-sample test, the two-sample test can be additionally performed by providing \n",
    "the two samples to be compared. We generate the sample $y_1, ..., y_n$ from a \n",
    "skew-normal distribution $SN_d(0,I_d, \\lambda)$, where $d=4$, $n=200$ and \n",
    "$\\lambda = (0.5, ..., 0.5)$. \n",
    "\n",
    "**Note:** If a value of `h` is not provided, the `select_h` function can be used to determine the optimal `h`. Please see examples below where `select_h` function has been illustrated. "
   ]
  },
  {
   "cell_type": "code",
   "execution_count": null,
   "metadata": {},
   "outputs": [],
   "source": [
    "import numpy as np\n",
    "\n",
    "np.random.seed(0)\n",
    "from scipy.stats import skewnorm\n",
    "\n",
    "from QuadratiK.kernel_test import KernelTest\n",
    "\n",
    "# data generation\n",
    "X_2 = np.random.multivariate_normal(mean=np.zeros(4), cov=np.eye(4), size=200)\n",
    "Y_2 = skewnorm.rvs(\n",
    "    size=(200, 4),\n",
    "    loc=np.zeros(4),\n",
    "    scale=np.ones(4),\n",
    "    a=np.repeat(0.5, 4),\n",
    "    random_state=20,\n",
    ")\n",
    "# performing the two sample test\n",
    "two_sample_test = KernelTest(h=2, num_iter=150, random_state=42).test(X_2, Y_2)\n",
    "\n",
    "# printing the summary for the two sample test\n",
    "print(two_sample_test.summary())"
   ]
  },
  {
   "cell_type": "markdown",
   "metadata": {},
   "source": [
    "The `qq_plot` function can be used to generate the qq-plots between the given samples. "
   ]
  },
  {
   "cell_type": "code",
   "execution_count": null,
   "metadata": {},
   "outputs": [],
   "source": [
    "from QuadratiK.tools import qq_plot\n",
    "\n",
    "two_sample_qq_plot = qq_plot(X_2, Y_2)\n",
    "\n",
    "# To save the qq plot: run the following line\n",
    "# two_sample_qq_plot.savefig('two_sample_qq_plot.png')\n",
    "\n",
    "\"\"\"\n",
    "If you want to run the following line in python terminal or in a .py file, please uncomment the code below and run.\n",
    "--------------------------------\n",
    "from QuadratiK.tools import qq_plot\n",
    "import matplotlib.pyplot as plt\n",
    "two_sample_qq_plot = qq_plot(X_2, Y_2)\n",
    "plt.show()\n",
    "two_sample_qq_plot.savefig('two_sample_qq_plot.png')\n",
    "--------------------------------\n",
    "\"\"\";"
   ]
  },
  {
   "cell_type": "markdown",
   "metadata": {},
   "source": [
    "## Uniformity Test"
   ]
  },
  {
   "cell_type": "markdown",
   "metadata": {},
   "source": [
    "Click here to download the `Python` script for this example: [uniformity_test.py](py_scripts/uniformity_test.py)"
   ]
  },
  {
   "cell_type": "markdown",
   "metadata": {},
   "source": [
    "We generate $n=200$ observations from the uniform distribution \n",
    "on $S^{d-1}$, with $d=3$.  "
   ]
  },
  {
   "cell_type": "code",
   "execution_count": null,
   "metadata": {},
   "outputs": [],
   "source": [
    "import numpy as np\n",
    "\n",
    "np.random.seed(0)\n",
    "from QuadratiK.poisson_kernel_test import PoissonKernelTest\n",
    "\n",
    "# data generation\n",
    "z = np.random.normal(size=(200, 3))\n",
    "data_unif = z / np.sqrt(np.sum(z**2, axis=1, keepdims=True))\n",
    "\n",
    "# performing the uniformity test\n",
    "unif_test = PoissonKernelTest(rho=0.7, random_state=42).test(data_unif)\n",
    "\n",
    "# printing the summary for uniformity test\n",
    "print(unif_test.summary())"
   ]
  },
  {
   "cell_type": "markdown",
   "metadata": {},
   "source": [
    "The `qq_plot` function can be used to generate the qq-plots between the given samples and the uniform distribution."
   ]
  },
  {
   "cell_type": "markdown",
   "metadata": {},
   "source": [
    "## Tuning Parameter $h$ selection"
   ]
  },
  {
   "cell_type": "markdown",
   "metadata": {},
   "source": [
    "The algorithm is implemented through the function `select_h`. \n",
    "The function select_h takes as arguments the data matrix x, the vector of \n",
    "labels y, and the type of alternatives (one of \"location\", \"scale\" or \n",
    "\"skewness\");  select_h returns not only the selected value of h, but also the \n",
    "power plot versus the considered list of h values for each tested value of \n",
    "$\\delta$. "
   ]
  },
  {
   "cell_type": "markdown",
   "metadata": {},
   "source": [
    "### For Two-Sample Test"
   ]
  },
  {
   "cell_type": "markdown",
   "metadata": {},
   "source": [
    "Click here to download the `Python` script for this example: [h_selection_two_sample_test.py](py_scripts/h_selection_two_sample_test.py)"
   ]
  },
  {
   "cell_type": "markdown",
   "metadata": {},
   "source": [
    "We present the algorithm for selecting the optimal value of the tuning \n",
    "parameter in the two-sample problem. \n",
    "The algorithm for the selection of h for \n",
    "the two-sample test can be also performed providing the two samples $x$ \n",
    "and $y$."
   ]
  },
  {
   "cell_type": "code",
   "execution_count": null,
   "metadata": {},
   "outputs": [],
   "source": [
    "from QuadratiK.kernel_test import select_h\n",
    "\n",
    "# Perform the algorithm for selecting h\n",
    "h_selected, all_powers, plot = select_h(\n",
    "    x=X_2, y=Y_2, alternative=\"location\", power_plot=True\n",
    ")\n",
    "print(f\"Selected h is: {h_selected}\")\n",
    "\n",
    "# To save the power plot: run the following line\n",
    "# plot.savefig('two_sample_power_plot.png')\n",
    "\n",
    "\"\"\"\n",
    "If you want to run the following line in python terminal or in a .py file, please uncomment the code below and run.\n",
    "--------------------------------\n",
    "from QuadratiK.kernel_test import select_h\n",
    "import matplotlib.pyplot as plt\n",
    "\n",
    "# Perform the algorithm for selecting h\n",
    "h_selected, all_powers, plot = select_h(\n",
    "    x=X_2, y=Y_2, alternative=\"location\", power_plot=True\n",
    ")\n",
    "plt.show()\n",
    "plot.savefig('two_sample_power_plot.png')\n",
    "print(f\"Selected h is: {h_selected}\")\n",
    "--------------------------------\n",
    "\"\"\";"
   ]
  },
  {
   "cell_type": "markdown",
   "metadata": {},
   "source": [
    "### For K-Sample Test"
   ]
  },
  {
   "cell_type": "markdown",
   "metadata": {},
   "source": [
    "Click here to download the `Python` script for this example: [h_selection_k_sample_test.py](py_scripts/h_selection_k_sample_test.py)"
   ]
  },
  {
   "cell_type": "markdown",
   "metadata": {},
   "source": [
    "We present the algorithm for selecting the optimal value of the tuning parameter in the k-sample problem. "
   ]
  },
  {
   "cell_type": "code",
   "execution_count": null,
   "metadata": {},
   "outputs": [],
   "source": [
    "from QuadratiK.kernel_test import select_h\n",
    "\n",
    "# Perform the algorithm for selecting h\n",
    "h_selected, all_powers = select_h(\n",
    "    x=X_k, y=y_k, alternative=\"skewness\", power_plot=False, method=\"subsampling\", b=0.2\n",
    ")\n",
    "print(f\"Selected h is: {h_selected}\")"
   ]
  },
  {
   "cell_type": "markdown",
   "metadata": {},
   "source": [
    "## Real World Examples"
   ]
  },
  {
   "cell_type": "markdown",
   "metadata": {},
   "source": [
    "### Two-Sample Test"
   ]
  },
  {
   "cell_type": "markdown",
   "metadata": {},
   "source": [
    "Click here to download the `Python` script for this example: [real_world_two_sample_test.py](py_scripts/real_world_two_sample_test.py)"
   ]
  },
  {
   "cell_type": "markdown",
   "metadata": {},
   "source": [
    "We utilize the Wisconsin Breast Cancer (Diagnostic) Dataset from the UCI repository to demonstrate the application of the Two-Sample Test in a real-world context."
   ]
  },
  {
   "cell_type": "code",
   "execution_count": null,
   "metadata": {},
   "outputs": [],
   "source": [
    "from QuadratiK.datasets import load_wisconsin_breast_cancer_data\n",
    "from QuadratiK.kernel_test import KernelTest, select_h\n",
    "\n",
    "X, y = load_wisconsin_breast_cancer_data(return_X_y=True, scaled=True)\n",
    "\n",
    "# Create masks for Malignant (M) and Benign (B) tumors\n",
    "malignant_mask = y == 1\n",
    "benign_mask = y == 0\n",
    "\n",
    "# Create X1 and X2 using the masks\n",
    "X1 = X[malignant_mask.all(axis=1)]\n",
    "X2 = X[benign_mask.all(axis=1)]\n",
    "\n",
    "# Perform the algorithm for selecting h\n",
    "h_selected, all_powers = select_h(\n",
    "    x=X1, y=X2, alternative=\"skewness\", method=\"subsampling\", b=0.5, n_jobs=-1\n",
    ")\n",
    "print(f\"Selected h is: {h_selected}\")\n",
    "\n",
    "# performing the two sample test\n",
    "two_sample_test = KernelTest(h=h_selected, num_iter=150, random_state=42).test(X1, X2)\n",
    "\n",
    "# printing two sample test object\n",
    "print(two_sample_test)"
   ]
  },
  {
   "cell_type": "markdown",
   "metadata": {},
   "source": [
    "### K-Sample Test"
   ]
  },
  {
   "cell_type": "markdown",
   "metadata": {},
   "source": [
    "Click here to download the `Python` script for this example: [real_world_k_sample_test.py](py_scripts/real_world_k_sample_test.py)"
   ]
  },
  {
   "cell_type": "markdown",
   "metadata": {},
   "source": [
    "To illustrate the application of the K-Sample Test, we use the wine dataset from the UCI repository."
   ]
  },
  {
   "cell_type": "code",
   "execution_count": null,
   "metadata": {},
   "outputs": [],
   "source": [
    "from QuadratiK.datasets import load_wine_data\n",
    "from QuadratiK.kernel_test import KernelTest, select_h\n",
    "\n",
    "X, y = load_wine_data(return_X_y=True, scaled=True)\n",
    "\n",
    "# Perform the algorithm for selecting h\n",
    "h_selected, all_powers = select_h(\n",
    "    x=X, y=y, alternative=\"skewness\", n_jobs=-1, b=0.5, method=\"subsampling\"\n",
    ")\n",
    "print(f\"Selected h is: {h_selected}\")\n",
    "\n",
    "# performing the two sample test\n",
    "k_sample_test = KernelTest(h=h_selected, num_iter=150, random_state=42).test(X, y)\n",
    "\n",
    "# printing the summary for the two sample test\n",
    "print(k_sample_test.summary())"
   ]
  },
  {
   "cell_type": "markdown",
   "metadata": {},
   "source": [
    "### Poisson Kernel Based Clustering"
   ]
  },
  {
   "cell_type": "markdown",
   "metadata": {},
   "source": [
    "Click here to download the `Python` script for this example: [pkbc.py](py_scripts/pkbc.py)"
   ]
  },
  {
   "cell_type": "markdown",
   "metadata": {},
   "source": [
    "We consider the Wireless Indoor Localization Data Set, publicly available in the UCI Machine Learning Repository’s website. This data set is used to study the performance of different indoor localization algorithms. \n",
    "\n",
    "The Wireless Indoor Localization data set contains the measurements of the Wi-Fi signal strength in different indoor rooms. It consists of a data frame with 2000 rows and 8 columns. The first 7 variables report the values of the Wi-Fi signal strength received from 7 different Wi-Fi routers in an office location in Pittsburgh (USA). The last column indicates the class labels, from 1 to 4, indicating the different rooms. Notice that, the Wi-Fi signal strength is measured in dBm, decibel milliwatts, which is expressed as a negative value ranging from -100 to 0. In total, we have 500 observations for each room.\n",
    "\n",
    "Given that the Wi-Fi signal strength takes values in a limited range, it is appropriate to consider the spherically transformed observations, by $L_2$ normalization, and consequently perform the clustering algorithm on the 7-dimensional sphere.\n",
    "\n"
   ]
  },
  {
   "cell_type": "code",
   "execution_count": 10,
   "metadata": {},
   "outputs": [],
   "source": [
    "import warnings\n",
    "\n",
    "from QuadratiK.datasets import load_wireless_data\n",
    "from QuadratiK.spherical_clustering import PKBC\n",
    "\n",
    "warnings.filterwarnings(\"ignore\")\n",
    "\n",
    "X, y = load_wireless_data(return_X_y=True)\n",
    "# number of clusters tried are from 2 to 10\n",
    "pkbc = PKBC(num_clust=range(2, 11), random_state=42).fit(X)"
   ]
  },
  {
   "cell_type": "code",
   "execution_count": null,
   "metadata": {},
   "outputs": [],
   "source": [
    "validation_metrics, elbow_plots = pkbc.validation(y_true=y)\n",
    "\n",
    "# To save the power plot: run the following line\n",
    "# elbow_plots.savefig('elbow_plots.png')\n",
    "\n",
    "\"\"\"\n",
    "If you want to run the following line in python terminal or in a .py file, please uncomment the code below and run.\n",
    "--------------------------------\n",
    "import matplotlib.pyplot as plt\n",
    "\n",
    "validation_metrics, elbow_plots = pkbc.validation(y_true=y)\n",
    "plt.show()\n",
    "elbow_plots.savefig('elbow_plots.png')\n",
    "--------------------------------\n",
    "\"\"\";"
   ]
  },
  {
   "cell_type": "markdown",
   "metadata": {},
   "source": [
    "To guide the choice of the number of clusters, the function validation provides cluster validation measures and graphical tools. Specifically, it displays the Elbow plot from the computed within-cluster sum of squares values and returns an a table of computed evaluation measures as shown below. "
   ]
  },
  {
   "cell_type": "code",
   "execution_count": null,
   "metadata": {},
   "outputs": [],
   "source": [
    "print(validation_metrics.round(2))"
   ]
  },
  {
   "cell_type": "code",
   "execution_count": null,
   "metadata": {},
   "outputs": [],
   "source": [
    "print(pkbc.summary())"
   ]
  },
  {
   "cell_type": "code",
   "execution_count": null,
   "metadata": {},
   "outputs": [],
   "source": [
    "\"\"\"\n",
    "This plot is created using Plotly. For detailed instructions on saving the plot, please refer to the Plotly documentation at:\n",
    "https://plotly.com/python/static-image-export/. Additionally, the current renderer is set to \"png\", but the plot can be saved in various formats; please consult the Plotly documentation for more information.\n",
    "\n",
    "Please be aware that generating static images requires `Kaleido` and `nbformat`.\n",
    "\"\"\"\n",
    "\n",
    "# please feel free to change the default renderer, for options see: https://plotly.com/python/renderers/\n",
    "import plotly.io as pio\n",
    "\n",
    "pio.renderers.default = \"png\"\n",
    "\n",
    "pkbc_clusters = pkbc.plot(num_clust=4, y_true=y)\n",
    "pkbc_clusters.show()\n",
    "\n",
    "# To save the plot: run the following line\n",
    "# pkbc_clusters.write_image(\"pkbc_clusters.png\")\n",
    "\n",
    "\"\"\"\n",
    "If you want to run the following line in python terminal, please uncomment the code below and run.\n",
    "--------------------------------\n",
    "import plotly.io as pio\n",
    "\n",
    "# For viewing the plot please set:\n",
    "pio.renderers.default = \"browser\"\n",
    "\n",
    "pkbc_clusters = pkbc.plot(num_clust=4, y_true=y)\n",
    "pkbc_clusters.show()\n",
    "\n",
    "# Once the plot opens in the browser, you can save the plot by clicking on the \"Download\" button in the plot on top right corner.\n",
    "--------------------------------\n",
    "\"\"\";"
   ]
  },
  {
   "cell_type": "markdown",
   "metadata": {},
   "source": [
    "The clusters identified with $k=4$ achieve high performance in terms of ARI, Macro Precision and Macro Recall."
   ]
  },
  {
   "cell_type": "markdown",
   "metadata": {},
   "source": [
    "## Initializing the Dashboard"
   ]
  },
  {
   "cell_type": "markdown",
   "metadata": {},
   "source": [
    "We show the initialization of the dashboard application. The corresponding code snippet is given below."
   ]
  },
  {
   "cell_type": "code",
   "execution_count": null,
   "metadata": {},
   "outputs": [],
   "source": [
    "# uncomment the below code to instantiate the dashboard on a local machine\n",
    "\"\"\"\n",
    "from QuadratiK.ui import UI\n",
    "UI().run()\n",
    "\"\"\""
   ]
  },
  {
   "cell_type": "markdown",
   "metadata": {},
   "source": [
    "![Dashboard](images/dash-landing.png)"
   ]
  },
  {
   "cell_type": "markdown",
   "metadata": {},
   "source": [
    "The above image shows the landing page of the user interface in the `QuadratiK` package"
   ]
  }
 ],
 "metadata": {
  "kernelspec": {
   "display_name": "py312",
   "language": "python",
   "name": "python3"
  },
  "language_info": {
   "codemirror_mode": {
    "name": "ipython",
    "version": 3
   },
   "file_extension": ".py",
   "mimetype": "text/x-python",
   "name": "python",
   "nbconvert_exporter": "python",
   "pygments_lexer": "ipython3",
   "version": "3.12.9"
  }
 },
 "nbformat": 4,
 "nbformat_minor": 4
}
