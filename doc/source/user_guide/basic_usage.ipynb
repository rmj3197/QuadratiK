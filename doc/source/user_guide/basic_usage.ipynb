{
 "cells": [
  {
   "cell_type": "markdown",
   "metadata": {},
   "source": [
    "# Usage Examples for `QuadratiK` in Python\n",
    "Authors : Giovanni Saraceno, Marianthi Markatou, Raktim Mukhopadhyay, Mojgan Golzy\n",
    "\n",
    "Date : 28 May 2024"
   ]
  },
  {
   "cell_type": "markdown",
   "metadata": {},
   "source": [
    "# Introduction"
   ]
  },
  {
   "cell_type": "markdown",
   "metadata": {},
   "source": [
    "This document contains various Python examples illustrating the use of `QuadratiK`"
   ]
  },
  {
   "cell_type": "markdown",
   "metadata": {},
   "source": [
    "## Installation"
   ]
  },
  {
   "cell_type": "markdown",
   "metadata": {},
   "source": [
    "The python package QuadratiK and other necessary packages must be installed. "
   ]
  },
  {
   "cell_type": "markdown",
   "metadata": {},
   "source": [
    "# Normality Test"
   ]
  },
  {
   "cell_type": "markdown",
   "metadata": {},
   "source": [
    "We illustrate the usage of the introduced KernelTest for the Normality\n",
    "test. We generate one sample from a multivariate standard Normal distribution, that is $x = (x_1, . . . , x_n)$ ∼\n",
    "$N_d(0, I_d)$ with dimension $d = 4$, and sample size $n = 500$."
   ]
  },
  {
   "cell_type": "code",
   "execution_count": null,
   "metadata": {},
   "outputs": [],
   "source": [
    "import numpy as np\n",
    "\n",
    "np.random.seed(78990)\n",
    "from QuadratiK.kernel_test import KernelTest\n",
    "\n",
    "# data generation\n",
    "data_norm = np.random.multivariate_normal(mean=np.zeros(4), cov=np.eye(4), size=500)\n",
    "\n",
    "# performing the normality test\n",
    "normality_test = KernelTest(\n",
    "    h=0.4, num_iter=150, method=\"subsampling\", random_state=42\n",
    ").test(data_norm)\n",
    "\n",
    "# printing the summary for normality test\n",
    "print(normality_test.summary())"
   ]
  },
  {
   "cell_type": "markdown",
   "metadata": {},
   "source": [
    "# K-Sample Test"
   ]
  },
  {
   "cell_type": "markdown",
   "metadata": {},
   "source": [
    "We generate three samples, with $n=200$ observations each, from a 2-dimensional Gaussian distributions with mean vectors $\\mu_1 = (0, \\sqrt(3)/3)$, $\\mu_2 = (-1/2, -\\sqrt(3)/6)$ and  $\\mu_3 = (1/2, \\sqrt(3)/6)$, and the Identity matrix as Covariance matrix.  "
   ]
  },
  {
   "cell_type": "code",
   "execution_count": null,
   "metadata": {},
   "outputs": [],
   "source": [
    "import numpy as np\n",
    "\n",
    "np.random.seed(0)\n",
    "from QuadratiK.kernel_test import KernelTest\n",
    "\n",
    "size = 200\n",
    "eps = 1\n",
    "x1 = np.random.multivariate_normal(\n",
    "    mean=[0, np.sqrt(3) * eps / 3], cov=np.eye(2), size=size\n",
    ")\n",
    "x2 = np.random.multivariate_normal(\n",
    "    mean=[-eps / 2, -np.sqrt(3) * eps / 6], cov=np.eye(2), size=size\n",
    ")\n",
    "x3 = np.random.multivariate_normal(\n",
    "    mean=[eps / 2, -np.sqrt(3) * eps / 6], cov=np.eye(2), size=size\n",
    ")\n",
    "# Merge the three samples into a single dataset\n",
    "X_k = np.concatenate([x1, x2, x3])\n",
    "# The memberships are needed for k-sample test\n",
    "y_k = np.repeat(np.array([1, 2, 3]), size).reshape(-1, 1)\n",
    "\n",
    "# performing the k-sample test\n",
    "k_sample_test = KernelTest(h=1.5, method=\"subsampling\", random_state=42).test(X_k, y_k)\n",
    "\n",
    "# printing the summary for the k-sample test\n",
    "print(k_sample_test.summary())"
   ]
  },
  {
   "cell_type": "markdown",
   "metadata": {},
   "source": [
    "# Two-Sample Test\n"
   ]
  },
  {
   "cell_type": "markdown",
   "metadata": {},
   "source": [
    "This example shows the application of the two-sample test. \n",
    "Instead of providing the vector of membership to the two groups as for the \n",
    "k-sample test, the two-sample test can be additionally performed by providing \n",
    "the two samples to be compared. We generate the sample $y_1, ..., y_n$ from a \n",
    "skew-normal distribution $SN_d(0,I_d, \\lambda)$, where $d=4$, $n=200$ and \n",
    "$\\lambda = (0.5, ..., 0.5)$. \n",
    "\n",
    "**Note:** If a value of `h` is not provided, the `select_h` function can be used to determine the optimal `h`. Please see examples below where `select_h` function has been illustrated. "
   ]
  },
  {
   "cell_type": "code",
   "execution_count": null,
   "metadata": {},
   "outputs": [],
   "source": [
    "import numpy as np\n",
    "\n",
    "np.random.seed(0)\n",
    "from scipy.stats import skewnorm\n",
    "from QuadratiK.kernel_test import KernelTest\n",
    "\n",
    "# data generation\n",
    "X_2 = np.random.multivariate_normal(mean=np.zeros(4), cov=np.eye(4), size=200)\n",
    "Y_2 = skewnorm.rvs(\n",
    "    size=(200, 4),\n",
    "    loc=np.zeros(4),\n",
    "    scale=np.ones(4),\n",
    "    a=np.repeat(0.5, 4),\n",
    "    random_state=20,\n",
    ")\n",
    "# performing the two sample test\n",
    "two_sample_test = KernelTest(h=2, num_iter=150, random_state=42).test(X_2, Y_2)\n",
    "\n",
    "# printing the summary for the two sample test\n",
    "print(two_sample_test.summary())"
   ]
  },
  {
   "cell_type": "markdown",
   "metadata": {},
   "source": [
    "The `qq_plot` function can be used to generate the qq-plots between the given samples. "
   ]
  },
  {
   "cell_type": "code",
   "execution_count": null,
   "metadata": {},
   "outputs": [],
   "source": [
    "from QuadratiK.tools import qq_plot\n",
    "\n",
    "qq_plot(X_2, Y_2)"
   ]
  },
  {
   "cell_type": "markdown",
   "metadata": {},
   "source": [
    "# Uniformity Test"
   ]
  },
  {
   "cell_type": "markdown",
   "metadata": {},
   "source": [
    "We generate $n=200$ observations from the uniform distribution \n",
    "on $S^{d-1}$, with $d=3$.  "
   ]
  },
  {
   "cell_type": "code",
   "execution_count": null,
   "metadata": {},
   "outputs": [],
   "source": [
    "import numpy as np\n",
    "\n",
    "np.random.seed(0)\n",
    "from QuadratiK.poisson_kernel_test import PoissonKernelTest\n",
    "\n",
    "# data generation\n",
    "z = np.random.normal(size=(200, 3))\n",
    "data_unif = z / np.sqrt(np.sum(z**2, axis=1, keepdims=True))\n",
    "\n",
    "# performing the uniformity test\n",
    "unif_test = PoissonKernelTest(rho=0.7, random_state=42).test(data_unif)\n",
    "\n",
    "# printing the summary for uniformity test\n",
    "print(unif_test.summary())"
   ]
  },
  {
   "cell_type": "markdown",
   "metadata": {},
   "source": [
    "The `qq_plot` function can be used to generate the qq-plots between the given samples and the uniform distribution "
   ]
  },
  {
   "cell_type": "code",
   "execution_count": null,
   "metadata": {},
   "outputs": [],
   "source": [
    "from QuadratiK.tools import qq_plot\n",
    "\n",
    "qq_plot(data_unif, dist=\"uniform\")"
   ]
  },
  {
   "cell_type": "markdown",
   "metadata": {},
   "source": [
    "# Tuning Parameter $h$ selection"
   ]
  },
  {
   "cell_type": "markdown",
   "metadata": {},
   "source": [
    "The algorithm is implemented through the function `select_h`. \n",
    "The function select_h takes as arguments the data matrix x, the vector of \n",
    "labels y, and the type of alternatives (one of \"location\", \"scale\" or \n",
    "\"skewness\").  select_h returns not only the selected value of h, but also the \n",
    "power plot versus the considered list of h values for each tested value of \n",
    "$\\delta$. "
   ]
  },
  {
   "cell_type": "markdown",
   "metadata": {},
   "source": [
    "## For Two-Sample Test"
   ]
  },
  {
   "cell_type": "markdown",
   "metadata": {},
   "source": [
    "We present the algorithm for selecting the optimal value of the tuning \n",
    "parameter in the two-sample problem. \n",
    "The algorithm for the selection of h for \n",
    "the two-sample test can be also performed providing the two samples $x$ \n",
    "and $y$."
   ]
  },
  {
   "cell_type": "code",
   "execution_count": null,
   "metadata": {},
   "outputs": [],
   "source": [
    "from QuadratiK.kernel_test import select_h\n",
    "\n",
    "# Perform the algorithm for selecting h\n",
    "h_selected, all_powers, plot = select_h(\n",
    "    x=X_2, y=Y_2, alternative=\"location\", power_plot=True, n_jobs=-1\n",
    ")\n",
    "print(\"Selected h is: {}\".format(h_selected))"
   ]
  },
  {
   "cell_type": "code",
   "execution_count": null,
   "metadata": {},
   "outputs": [],
   "source": [
    "plot"
   ]
  },
  {
   "cell_type": "markdown",
   "metadata": {},
   "source": [
    "## For K-Sample Test"
   ]
  },
  {
   "cell_type": "markdown",
   "metadata": {},
   "source": [
    "We present the algorithm for selecting the optimal value of the tuning parameter in the k-sample problem. "
   ]
  },
  {
   "cell_type": "code",
   "execution_count": null,
   "metadata": {},
   "outputs": [],
   "source": [
    "from QuadratiK.kernel_test import select_h\n",
    "\n",
    "# Perform the algorithm for selecting h\n",
    "h_selected, all_powers, plot = select_h(\n",
    "    x=X_k, y=y_k, alternative=\"skewness\", power_plot=True, n_jobs=-1\n",
    ")\n",
    "print(\"Selected h is: {}\".format(h_selected))"
   ]
  },
  {
   "cell_type": "markdown",
   "metadata": {},
   "source": [
    "# Real World Examples"
   ]
  },
  {
   "cell_type": "markdown",
   "metadata": {},
   "source": [
    "## Two-Sample Test"
   ]
  },
  {
   "cell_type": "markdown",
   "metadata": {},
   "source": [
    "We utilize the Wisconsin Breast Cancer (Diagnostic) Dataset from the UCI repository to demonstrate the application of the Two-Sample Test in a real-world context."
   ]
  },
  {
   "cell_type": "code",
   "execution_count": 1,
   "metadata": {},
   "outputs": [
    {
     "name": "stdout",
     "output_type": "stream",
     "text": [
      "Selected h is: 0.4\n",
      "Time taken for execution: 0.592 seconds\n",
      "Test Results \n",
      "Kernel-based quadratic distance two-sample test \n",
      "                                             Dn       Trace\n",
      "------------------------------------  ---------  ----------\n",
      "Test Statistic                        11.5761    103.191\n",
      "Critical Value                         0.101924    0.899223\n",
      "H0 is rejected (1 = True, 0 = False)   1           1\n",
      "CV method: subsampling \n",
      "Selected tuning parameter h : 0.4 \n",
      "\n",
      "Summary Statistics \n",
      "                             Group 1    Group 2    Overall\n",
      "-------------------------  ---------  ---------  ---------\n",
      "('Feature 0', 'Mean')         0.0108     0.0172     0.0148\n",
      "('Feature 0', 'Std Dev')      0.0023     0.0027     0.004\n",
      "('Feature 0', 'Median')       0.0107     0.0168     0.0151\n",
      "('Feature 0', 'IQR')          0.0032     0.0032     0.0057\n",
      "('Feature 0', 'Min')          0.0055     0.0113     0.0055\n",
      "('Feature 0', 'Max')          0.0174     0.0285     0.0285\n",
      "('Feature 1', 'Mean')         0.0142     0.0266     0.022\n",
      "('Feature 1', 'Std Dev')      0.0057     0.0109     0.0111\n",
      "('Feature 1', 'Median')       0.0128     0.0243     0.0204\n",
      "('Feature 1', 'IQR')          0.0078     0.0123     0.0128\n",
      "('Feature 1', 'Min')          0.0046     0.0084     0.0046\n",
      "('Feature 1', 'Max')          0.0331     0.0866     0.0866\n",
      "('Feature 2', 'Mean')         0.0715     0.1106     0.096\n",
      "('Feature 2', 'Std Dev')      0.0148     0.017      0.0249\n",
      "('Feature 2', 'Median')       0.0702     0.1078     0.0972\n",
      "('Feature 2', 'IQR')          0.0197     0.0197     0.0345\n",
      "('Feature 2', 'Min')          0.0364     0.0727     0.0364\n",
      "('Feature 2', 'Max')          0.1152     0.1786     0.1786\n",
      "('Feature 3', 'Mean')         0.5674     0.6274     0.6051\n",
      "('Feature 3', 'Std Dev')      0.053      0.0235     0.0472\n",
      "('Feature 3', 'Median')       0.5717     0.6294     0.6152\n",
      "('Feature 3', 'IQR')          0.0625     0.0326     0.0569\n",
      "('Feature 3', 'Min')          0.3762     0.5243     0.3762\n",
      "('Feature 3', 'Max')          0.6974     0.6832     0.6974\n",
      "('Feature 4', 'Mean')         0.0001     0.0001     0.0001\n",
      "('Feature 4', 'Std Dev')      0          0.0001     0.0001\n",
      "('Feature 4', 'Median')       0.0001     0.0001     0.0001\n",
      "('Feature 4', 'IQR')          0          0.0001     0.0001\n",
      "('Feature 4', 'Min')          0          0          0\n",
      "('Feature 4', 'Max')          0.0002     0.0005     0.0005\n",
      "('Feature 5', 'Mean')         0.0001     0.0001     0.0001\n",
      "('Feature 5', 'Std Dev')      0.0001     0.0001     0.0001\n",
      "('Feature 5', 'Median')       0.0001     0.0001     0.0001\n",
      "('Feature 5', 'IQR')          0.0001     0.0001     0.0001\n",
      "('Feature 5', 'Min')          0          0          0\n",
      "('Feature 5', 'Max')          0.0004     0.0006     0.0006\n",
      "('Feature 6', 'Mean')         0.0001     0.0001     0.0001\n",
      "('Feature 6', 'Std Dev')      0.0001     0.0001     0.0001\n",
      "('Feature 6', 'Median')       0.0001     0          0.0001\n",
      "('Feature 6', 'IQR')          0.0001     0.0001     0.0001\n",
      "('Feature 6', 'Min')          0          0          0\n",
      "('Feature 6', 'Max')          0.0003     0.0008     0.0008\n",
      "('Feature 7', 'Mean')         0.0001     0          0\n",
      "('Feature 7', 'Std Dev')      0          0          0\n",
      "('Feature 7', 'Median')       0.0001     0          0\n",
      "('Feature 7', 'IQR')          0          0          0\n",
      "('Feature 7', 'Min')          0          0          0\n",
      "('Feature 7', 'Max')          0.0002     0.0002     0.0002\n",
      "('Feature 8', 'Mean')         0.0001     0.0003     0.0002\n",
      "('Feature 8', 'Std Dev')      0.0001     0.0001     0.0001\n",
      "('Feature 8', 'Median')       0.0001     0.0002     0.0002\n",
      "('Feature 8', 'IQR')          0.0001     0.0001     0.0001\n",
      "('Feature 8', 'Min')          0          0.0001     0\n",
      "('Feature 8', 'Max')          0.0004     0.0008     0.0008\n",
      "('Feature 9', 'Mean')         0          0.0001     0.0001\n",
      "('Feature 9', 'Std Dev')      0          0          0\n",
      "('Feature 9', 'Median')       0          0.0001     0.0001\n",
      "('Feature 9', 'IQR')          0          0          0\n",
      "('Feature 9', 'Min')          0          0          0\n",
      "('Feature 9', 'Max')          0.0001     0.0003     0.0003\n",
      "('Feature 10', 'Mean')        0.0004     0.0004     0.0004\n",
      "('Feature 10', 'Std Dev')     0.0001     0.0002     0.0002\n",
      "('Feature 10', 'Median')      0.0003     0.0004     0.0003\n",
      "('Feature 10', 'IQR')         0.0002     0.0002     0.0002\n",
      "('Feature 10', 'Min')         0.0001     0.0001     0.0001\n",
      "('Feature 10', 'Max')         0.0012     0.0017     0.0017\n",
      "('Feature 11', 'Mean')        0.0008     0.0019     0.0015\n",
      "('Feature 11', 'Std Dev')     0.0005     0.0013     0.0012\n",
      "('Feature 11', 'Median')      0.0007     0.0016     0.0011\n",
      "('Feature 11', 'IQR')         0.0005     0.0014     0.0012\n",
      "('Feature 11', 'Min')         0.0002     0.0003     0.0002\n",
      "('Feature 11', 'Max')         0.003      0.0114     0.0114\n",
      "('Feature 12', 'Mean')        0.0025     0.003      0.0028\n",
      "('Feature 12', 'Std Dev')     0.0011     0.0016     0.0014\n",
      "('Feature 12', 'Median')      0.0023     0.0026     0.0024\n",
      "('Feature 12', 'IQR')         0.0011     0.0015     0.0013\n",
      "('Feature 12', 'Min')         0.001      0.0009     0.0009\n",
      "('Feature 12', 'Max')         0.008      0.0107     0.0107\n",
      "('Feature 13', 'Mean')        0.0389     0.03       0.0333\n",
      "('Feature 13', 'Std Dev')     0.0173     0.013      0.0154\n",
      "('Feature 13', 'Median')      0.0348     0.0262     0.0302\n",
      "('Feature 13', 'IQR')         0.0182     0.0152     0.017\n",
      "('Feature 13', 'Min')         0.0157     0.0114     0.0114\n",
      "('Feature 13', 'Max')         0.1467     0.1002     0.1467\n",
      "('Feature 14', 'Mean')        0          0          0\n",
      "('Feature 14', 'Std Dev')     0          0          0\n",
      "('Feature 14', 'Median')      0          0          0\n",
      "('Feature 14', 'IQR')         0          0          0\n",
      "('Feature 14', 'Min')         0          0          0\n",
      "('Feature 14', 'Max')         0          0.0001     0.0001\n",
      "('Feature 15', 'Mean')        0          0          0\n",
      "('Feature 15', 'Std Dev')     0          0          0\n",
      "('Feature 15', 'Median')      0          0          0\n",
      "('Feature 15', 'IQR')         0          0          0\n",
      "('Feature 15', 'Min')         0          0          0\n",
      "('Feature 15', 'Max')         0.0001     0.0002     0.0002\n",
      "('Feature 16', 'Mean')        0          0          0\n",
      "('Feature 16', 'Std Dev')     0          0.0001     0.0001\n",
      "('Feature 16', 'Median')      0          0          0\n",
      "('Feature 16', 'IQR')         0          0          0\n",
      "('Feature 16', 'Min')         0          0          0\n",
      "('Feature 16', 'Max')         0.0001     0.0008     0.0008\n",
      "('Feature 17', 'Mean')        0          0          0\n",
      "('Feature 17', 'Std Dev')     0          0          0\n",
      "('Feature 17', 'Median')      0          0          0\n",
      "('Feature 17', 'IQR')         0          0          0\n",
      "('Feature 17', 'Min')         0          0          0\n",
      "('Feature 17', 'Max')         0          0.0001     0.0001\n",
      "('Feature 18', 'Mean')        0          0          0\n",
      "('Feature 18', 'Std Dev')     0          0          0\n",
      "('Feature 18', 'Median')      0          0          0\n",
      "('Feature 18', 'IQR')         0          0          0\n",
      "('Feature 18', 'Min')         0          0          0\n",
      "('Feature 18', 'Max')         0.0001     0.0002     0.0002\n",
      "('Feature 19', 'Mean')        0          0          0\n",
      "('Feature 19', 'Std Dev')     0          0          0\n",
      "('Feature 19', 'Median')      0          0          0\n",
      "('Feature 19', 'IQR')         0          0          0\n",
      "('Feature 19', 'Min')         0          0          0\n",
      "('Feature 19', 'Max')         0          0.0001     0.0001\n",
      "('Feature 20', 'Mean')        0.013      0.019      0.0167\n",
      "('Feature 20', 'Std Dev')     0.0024     0.003      0.004\n",
      "('Feature 20', 'Median')      0.0126     0.0185     0.0167\n",
      "('Feature 20', 'IQR')         0.0034     0.0035     0.0054\n",
      "('Feature 20', 'Min')         0.0072     0.0126     0.0072\n",
      "('Feature 20', 'Max')         0.0213     0.0323     0.0323\n",
      "('Feature 21', 'Mean')        0.0195     0.0349     0.0292\n",
      "('Feature 21', 'Std Dev')     0.0087     0.0141     0.0145\n",
      "('Feature 21', 'Median')      0.017      0.0313     0.027\n",
      "('Feature 21', 'IQR')         0.0113     0.0161     0.0183\n",
      "('Feature 21', 'Min')         0.0052     0.0117     0.0052\n",
      "('Feature 21', 'Max')         0.0547     0.1086     0.1086\n",
      "('Feature 22', 'Mean')        0.087      0.1231     0.1097\n",
      "('Feature 22', 'Std Dev')     0.0166     0.0189     0.0251\n",
      "('Feature 22', 'Median')      0.0835     0.12       0.1098\n",
      "('Feature 22', 'IQR')         0.0232     0.0227     0.033\n",
      "('Feature 22', 'Min')         0.0505     0.0807     0.0505\n",
      "('Feature 22', 'Max')         0.1443     0.2056     0.2056\n",
      "('Feature 23', 'Mean')        0.8111     0.7572     0.7773\n",
      "('Feature 23', 'Std Dev')     0.0371     0.0192     0.0377\n",
      "('Feature 23', 'Median')      0.8113     0.7556     0.7689\n",
      "('Feature 23', 'IQR')         0.0443     0.0259     0.0499\n",
      "('Feature 23', 'Min')         0.696      0.7034     0.696\n",
      "('Feature 23', 'Max')         0.9212     0.8273     0.9212\n",
      "('Feature 24', 'Mean')        0.0001     0.0002     0.0002\n",
      "('Feature 24', 'Std Dev')     0          0.0001     0.0001\n",
      "('Feature 24', 'Median')      0.0001     0.0002     0.0001\n",
      "('Feature 24', 'IQR')         0.0001     0.0001     0.0001\n",
      "('Feature 24', 'Min')         0          0.0001     0\n",
      "('Feature 24', 'Max')         0.0003     0.0006     0.0006\n",
      "('Feature 25', 'Mean')        0.0003     0.0003     0.0003\n",
      "('Feature 25', 'Std Dev')     0.0002     0.0002     0.0002\n",
      "('Feature 25', 'Median')      0.0002     0.0002     0.0002\n",
      "('Feature 25', 'IQR')         0.0002     0.0002     0.0002\n",
      "('Feature 25', 'Min')         0          0          0\n",
      "('Feature 25', 'Max')         0.0015     0.0013     0.0015\n",
      "('Feature 26', 'Mean')        0.0003     0.0002     0.0003\n",
      "('Feature 26', 'Std Dev')     0.0002     0.0003     0.0002\n",
      "('Feature 26', 'Median')      0.0002     0.0002     0.0002\n",
      "('Feature 26', 'IQR')         0.0002     0.0002     0.0002\n",
      "('Feature 26', 'Min')         0          0          0\n",
      "('Feature 26', 'Max')         0.0013     0.003      0.003\n",
      "('Feature 27', 'Mean')        0.0001     0.0001     0.0001\n",
      "('Feature 27', 'Std Dev')     0.0001     0.0001     0.0001\n",
      "('Feature 27', 'Median')      0.0001     0.0001     0.0001\n",
      "('Feature 27', 'IQR')         0.0001     0.0001     0.0001\n",
      "('Feature 27', 'Min')         0          0          0\n",
      "('Feature 27', 'Max')         0.0004     0.0004     0.0004\n",
      "('Feature 28', 'Mean')        0.0002     0.0004     0.0003\n",
      "('Feature 28', 'Std Dev')     0.0001     0.0002     0.0002\n",
      "('Feature 28', 'Median')      0.0002     0.0004     0.0003\n",
      "('Feature 28', 'IQR')         0.0001     0.0002     0.0002\n",
      "('Feature 28', 'Min')         0          0.0001     0\n",
      "('Feature 28', 'Max')         0.0009     0.0012     0.0012\n",
      "('Feature 29', 'Mean')        0.0001     0.0001     0.0001\n",
      "('Feature 29', 'Std Dev')     0          0.0001     0.0001\n",
      "('Feature 29', 'Median')      0.0001     0.0001     0.0001\n",
      "('Feature 29', 'IQR')         0          0.0001     0.0001\n",
      "('Feature 29', 'Min')         0          0          0\n",
      "('Feature 29', 'Max')         0.0002     0.0004     0.0004\n"
     ]
    }
   ],
   "source": [
    "from QuadratiK.datasets import load_wisconsin_breast_cancer_data\n",
    "from QuadratiK.kernel_test import KernelTest\n",
    "from QuadratiK.kernel_test import select_h\n",
    "\n",
    "X, y = load_wisconsin_breast_cancer_data(return_X_y=True, scaled=True)\n",
    "\n",
    "# Create masks for Malignant (M) and Benign (B) tumors\n",
    "malignant_mask = y == 1\n",
    "benign_mask = y == 0\n",
    "\n",
    "# Create X1 and X2 using the masks\n",
    "X1 = X[malignant_mask]\n",
    "X2 = X[benign_mask]\n",
    "\n",
    "# Perform the algorithm for selecting h\n",
    "h_selected, all_powers = select_h(\n",
    "    x=X1, y=X2, alternative=\"skewness\", method=\"subsampling\", b=0.5, n_jobs=-1\n",
    ")\n",
    "print(\"Selected h is: {}\".format(h_selected))\n",
    "\n",
    "# performing the two sample test\n",
    "two_sample_test = KernelTest(h=h_selected, num_iter=150, random_state=42).test(X1, X2)\n",
    "\n",
    "# printing the summary for the two sample test\n",
    "print(two_sample_test.summary())"
   ]
  },
  {
   "cell_type": "markdown",
   "metadata": {},
   "source": [
    "## K-Sample Test"
   ]
  },
  {
   "cell_type": "markdown",
   "metadata": {},
   "source": [
    "To illustrate the application of the K-Sample Test, we use the wine dataset from the UCI repository."
   ]
  },
  {
   "cell_type": "code",
   "execution_count": null,
   "metadata": {},
   "outputs": [],
   "source": [
    "from QuadratiK.datasets import load_wine_data\n",
    "from QuadratiK.kernel_test import KernelTest\n",
    "from QuadratiK.kernel_test import select_h\n",
    "\n",
    "X, y = load_wine_data(return_X_y=True, scaled=True)\n",
    "\n",
    "# Perform the algorithm for selecting h\n",
    "h_selected, all_powers = select_h(\n",
    "    x=X, y=y, alternative=\"skewness\", n_jobs=-1, b=0.5, method=\"subsampling\"\n",
    ")\n",
    "print(\"Selected h is: {}\".format(h_selected))\n",
    "\n",
    "# performing the two sample test\n",
    "k_sample_test = KernelTest(h=h_selected, num_iter=150, random_state=42).test(X, y)\n",
    "\n",
    "# printing the summary for the two sample test\n",
    "print(k_sample_test.summary())"
   ]
  },
  {
   "cell_type": "markdown",
   "metadata": {},
   "source": [
    "## Poisson Kernel Based Clustering"
   ]
  },
  {
   "cell_type": "markdown",
   "metadata": {},
   "source": [
    "We consider the Wireless Indoor Localization Data Set, publicly available in the UCI Machine Learning Repository’s website. This data set is used to study the performance of different indoor localization algorithms. \n",
    "\n",
    "The Wireless Indoor Localization data set contains the measurements of the Wi-Fi signal strength in different indoor rooms. It consists of a data frame with 2000 rows and 8 columns. The first 7 variables report the values of the Wi-Fi signal strength received from 7 different Wi-Fi routers in an office location in Pittsburgh (USA). The last column indicates the class labels, from 1 to 4, indicating the different rooms. Notice that, the Wi-Fi signal strength is measured in dBm, decibel milliwatts, which is expressed as a negative value ranging from -100 to 0. In total, we have 500 observations for each room.\n",
    "\n",
    "Given that the Wi-Fi signal strength takes values in a limited range, it is appropriate to consider the spherically transformed observations, by $L_2$ normalization, and consequently perform the clustering algorithm on the 7-dimensional sphere.\n",
    "\n"
   ]
  },
  {
   "cell_type": "code",
   "execution_count": null,
   "metadata": {},
   "outputs": [],
   "source": [
    "from QuadratiK.datasets import load_wireless_data\n",
    "from QuadratiK.spherical_clustering import PKBC\n",
    "import warnings\n",
    "\n",
    "warnings.filterwarnings(\"ignore\")\n",
    "\n",
    "X, y = load_wireless_data(return_X_y=True)\n",
    "# number of clusters tried are from 2 to 10\n",
    "pkbc = PKBC(num_clust=range(2, 11), random_state=42).fit(X)"
   ]
  },
  {
   "cell_type": "code",
   "execution_count": null,
   "metadata": {},
   "outputs": [],
   "source": [
    "validation_metrics, elbow_plots = pkbc.validation(y_true=y)"
   ]
  },
  {
   "cell_type": "markdown",
   "metadata": {},
   "source": [
    "To guide the choice of the number of clusters, the function validation provides cluster validation measures and graphical tools. Specifically, it displays the Elbow plot from the computed within-cluster sum of squares values and returns an a table of computed evaluation measures as shown below. "
   ]
  },
  {
   "cell_type": "code",
   "execution_count": null,
   "metadata": {},
   "outputs": [],
   "source": [
    "print(validation_metrics.round(2))"
   ]
  },
  {
   "cell_type": "code",
   "execution_count": null,
   "metadata": {},
   "outputs": [],
   "source": [
    "elbow_plots"
   ]
  },
  {
   "cell_type": "code",
   "execution_count": null,
   "metadata": {},
   "outputs": [],
   "source": [
    "print(pkbc.summary())"
   ]
  },
  {
   "cell_type": "markdown",
   "metadata": {},
   "source": [
    "The clusters identified with $k=4$ achieve high performance in terms of ARI, Macro Precision and Macro Recall."
   ]
  },
  {
   "cell_type": "markdown",
   "metadata": {},
   "source": [
    "# Initializing the Dashboard"
   ]
  },
  {
   "cell_type": "markdown",
   "metadata": {},
   "source": [
    "We show the initialization of the dashboard application. The corresponding code snippet is given below."
   ]
  },
  {
   "cell_type": "code",
   "execution_count": null,
   "metadata": {},
   "outputs": [],
   "source": [
    "# uncomment the below code to instantiate the dashboard on a local machine\n",
    "\"\"\"\n",
    "from QuadratiK.ui import UI\n",
    "UI().run()\n",
    "\"\"\""
   ]
  }
 ],
 "metadata": {
  "kernelspec": {
   "display_name": "Python 3 (ipykernel)",
   "language": "python",
   "name": "python3"
  },
  "language_info": {
   "codemirror_mode": {
    "name": "ipython",
    "version": 3
   },
   "file_extension": ".py",
   "mimetype": "text/x-python",
   "name": "python",
   "nbconvert_exporter": "python",
   "pygments_lexer": "ipython3",
   "version": "3.12.3"
  }
 },
 "nbformat": 4,
 "nbformat_minor": 4
}
