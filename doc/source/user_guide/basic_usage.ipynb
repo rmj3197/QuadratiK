{
 "cells": [
  {
   "cell_type": "markdown",
   "metadata": {},
   "source": [
    "# QuadratiK Usage Examples"
   ]
  },
  {
   "cell_type": "code",
   "execution_count": 1,
   "metadata": {},
   "outputs": [],
   "source": [
    "%matplotlib inline\n",
    "import matplotlib.pyplot as plt\n",
    "import numpy as np\n",
    "\n",
    "np.random.seed(42)\n",
    "import pandas as pd"
   ]
  },
  {
   "cell_type": "markdown",
   "metadata": {},
   "source": [
    "## Normality Test"
   ]
  },
  {
   "cell_type": "markdown",
   "metadata": {},
   "source": [
    "This section contains example for the Parametric and Non-parametric Normality Test based on kernel-based quadratic distances"
   ]
  },
  {
   "cell_type": "markdown",
   "metadata": {},
   "source": [
    "### Parametric"
   ]
  },
  {
   "cell_type": "code",
   "execution_count": 2,
   "metadata": {},
   "outputs": [
    {
     "name": "stdout",
     "output_type": "stream",
     "text": [
      "Test : Kernel-based quadratic distance Normality test\n",
      "Execution time: 2.107\n",
      "H0 is Rejected : False\n",
      "Test Statistic : -116.93474728173035\n",
      "Critical Value (CV) : 185.334479118873\n",
      "Selected tuning parameter : 0.4\n"
     ]
    }
   ],
   "source": [
    "from QuadratiK.kernel_test import KernelTest\n",
    "\n",
    "data = np.random.randn(100, 2)\n",
    "\n",
    "normality_test = KernelTest(h=0.4, centering_type=\"param\", random_state=42).test(data)\n",
    "print(\"Test : {}\".format(normality_test.test_type_))\n",
    "print(\"Execution time: {:.3f}\".format(normality_test.execution_time))\n",
    "print(\"H0 is Rejected : {}\".format(normality_test.un_h0_rejected_))\n",
    "print(\"Test Statistic : {}\".format(normality_test.un_test_statistic_))\n",
    "print(\"Critical Value (CV) : {}\".format(normality_test.un_cv_))\n",
    "print(\"Selected tuning parameter : {}\".format(normality_test.h))"
   ]
  },
  {
   "cell_type": "code",
   "execution_count": 3,
   "metadata": {},
   "outputs": [
    {
     "name": "stdout",
     "output_type": "stream",
     "text": [
      "Time taken for execution: 2.107 seconds\n",
      "Test Results \n",
      "-----------------  ----------------------------------------------\n",
      "Test Type          Kernel-based quadratic distance Normality test\n",
      "Un Test Statistic  -116.93474728173035\n",
      "Un Critical Value  185.334479118873\n",
      "Un Reject H0       False\n",
      "Vn Test Statistic  0.6315175347522548\n",
      "Vn Critical Value  8.808524062653914\n",
      "Vn Reject H0       False\n",
      "Var Un             5.992919179649088e-06\n",
      "-----------------  ----------------------------------------------\n",
      "Summary Statistics \n",
      "           Feature 0    Feature 1\n",
      "-------  -----------  -----------\n",
      "Mean         -0.1156       0.034\n",
      "Std Dev       0.8563       0.9989\n",
      "Median       -0.0353       0.1323\n",
      "IQR           1.0704       1.3333\n",
      "Min          -2.6197      -1.9876\n",
      "Max           1.8862       2.7202\n"
     ]
    }
   ],
   "source": [
    "print(normality_test.summary())"
   ]
  },
  {
   "cell_type": "markdown",
   "metadata": {},
   "source": [
    "### Non-parametric"
   ]
  },
  {
   "cell_type": "code",
   "execution_count": 4,
   "metadata": {},
   "outputs": [
    {
     "name": "stdout",
     "output_type": "stream",
     "text": [
      "Test : Kernel-based quadratic distance Normality test\n",
      "Execution time: 0.172\n",
      "H0 is Rejected : False\n",
      "Test Statistic : -116.93474728173035\n",
      "Critical Value (CV) : 144.03077127316746\n",
      "Selected tuning parameter : 0.4\n"
     ]
    }
   ],
   "source": [
    "normality_test = KernelTest(h=0.4, centering_type=\"nonparam\").test(data)\n",
    "print(\"Test : {}\".format(normality_test.test_type_))\n",
    "print(\"Execution time: {:.3f}\".format(normality_test.execution_time))\n",
    "print(\"H0 is Rejected : {}\".format(normality_test.un_h0_rejected_))\n",
    "print(\"Test Statistic : {}\".format(normality_test.un_test_statistic_))\n",
    "print(\"Critical Value (CV) : {}\".format(normality_test.un_cv_))\n",
    "print(\"Selected tuning parameter : {}\".format(normality_test.h))"
   ]
  },
  {
   "cell_type": "code",
   "execution_count": 5,
   "metadata": {},
   "outputs": [
    {
     "name": "stdout",
     "output_type": "stream",
     "text": [
      "Time taken for execution: 0.172 seconds\n",
      "Test Results \n",
      "-----------------  ----------------------------------------------\n",
      "Test Type          Kernel-based quadratic distance Normality test\n",
      "Un Test Statistic  -116.93474728173035\n",
      "Un Critical Value  144.03077127316746\n",
      "Un Reject H0       False\n",
      "Vn Test Statistic  0.6315175347522548\n",
      "Vn Critical Value  8.808524062653914\n",
      "Vn Reject H0       False\n",
      "Var Un             5.992919179649088e-06\n",
      "-----------------  ----------------------------------------------\n",
      "Summary Statistics \n",
      "           Feature 0    Feature 1\n",
      "-------  -----------  -----------\n",
      "Mean         -0.1156       0.034\n",
      "Std Dev       0.8563       0.9989\n",
      "Median       -0.0353       0.1323\n",
      "IQR           1.0704       1.3333\n",
      "Min          -2.6197      -1.9876\n",
      "Max           1.8862       2.7202\n"
     ]
    }
   ],
   "source": [
    "print(normality_test.summary())"
   ]
  },
  {
   "cell_type": "markdown",
   "metadata": {},
   "source": [
    "### QQ Plot"
   ]
  },
  {
   "cell_type": "code",
   "execution_count": 6,
   "metadata": {},
   "outputs": [
    {
     "data": {
      "image/png": "[encoded data removed]",
      "text/plain": [
       "<Figure size 600x600 with 2 Axes>"
      ]
     },
     "execution_count": 6,
     "metadata": {},
     "output_type": "execute_result"
    }
   ],
   "source": [
    "from QuadratiK.tools import qq_plot\n",
    "\n",
    "qq_plot(data)"
   ]
  },
  {
   "cell_type": "markdown",
   "metadata": {},
   "source": [
    "## Two Sample Test"
   ]
  },
  {
   "cell_type": "markdown",
   "metadata": {},
   "source": [
    "This sections shows example for the two-sample test using normal kernel-based quadratic distance "
   ]
  },
  {
   "cell_type": "code",
   "execution_count": 7,
   "metadata": {},
   "outputs": [
    {
     "name": "stdout",
     "output_type": "stream",
     "text": [
      "Test : Kernel-based quadratic distance two-sample test\n",
      "Execution time: 0.150\n",
      "H0 is Rejected : [False False]\n",
      "Test Statistic : [79.64380633 81.82980602]\n",
      "Critical Value (CV) : [228.89244524 235.30628518]\n",
      "CV Method : subsampling\n",
      "Selected tuning parameter : 0.4\n"
     ]
    }
   ],
   "source": [
    "from QuadratiK.kernel_test import KernelTest\n",
    "\n",
    "X = np.random.randn(100, 2)\n",
    "Y = np.random.randn(100, 2)\n",
    "\n",
    "two_sample_test = KernelTest(h=0.4, random_state=42).test(X, Y)\n",
    "print(\"Test : {}\".format(two_sample_test.test_type_))\n",
    "print(\"Execution time: {:.3f}\".format(two_sample_test.execution_time))\n",
    "print(\"H0 is Rejected : {}\".format(two_sample_test.un_h0_rejected_))\n",
    "print(\"Test Statistic : {}\".format(two_sample_test.un_test_statistic_))\n",
    "print(\"Critical Value (CV) : {}\".format(two_sample_test.un_cv_))\n",
    "print(\"CV Method : {}\".format(two_sample_test.cv_method_))\n",
    "print(\"Selected tuning parameter : {}\".format(two_sample_test.h))"
   ]
  },
  {
   "cell_type": "code",
   "execution_count": 8,
   "metadata": {},
   "outputs": [
    {
     "name": "stdout",
     "output_type": "stream",
     "text": [
      "Time taken for execution: 0.150 seconds\n",
      "Test Results \n",
      "-----------------  -----------------------------------------------\n",
      "Test Type          Kernel-based quadratic distance two-sample test\n",
      "Un Test Statistic  [79.64380633 81.82980602]\n",
      "Un Critical Value  [228.89244524 235.30628518]\n",
      "Reject H0          [False False]\n",
      "Var Un             [5.36771214e-05 1.28399708e-05]\n",
      "-----------------  -----------------------------------------------\n",
      "Summary Statistics \n",
      "                            Group 1    Group 2    Overall\n",
      "------------------------  ---------  ---------  ---------\n",
      "('Feature 0', 'Mean')        0.1282    -0.045      0.0416\n",
      "('Feature 0', 'Std Dev')     1.0396     1.025      1.0334\n",
      "('Feature 0', 'Median')      0.1056     0.0118     0.0737\n",
      "('Feature 0', 'IQR')         1.4912     1.2409     1.345\n",
      "('Feature 0', 'Min')        -3.2413    -2.4716    -3.2413\n",
      "('Feature 0', 'Max')         2.3147     3.0789     3.0789\n",
      "('Feature 1', 'Mean')        0.0435    -0.1263    -0.0414\n",
      "('Feature 1', 'Std Dev')     0.9348     0.9656     0.9517\n",
      "('Feature 1', 'Median')      0.0114    -0.1967    -0.1224\n",
      "('Feature 1', 'IQR')         1.2379     1.4056     1.3208\n",
      "('Feature 1', 'Min')        -1.9521    -2.3019    -2.3019\n",
      "('Feature 1', 'Max')         3.8527     2.2707     3.8527\n"
     ]
    }
   ],
   "source": [
    "print(two_sample_test.summary())"
   ]
  },
  {
   "cell_type": "markdown",
   "metadata": {},
   "source": [
    "## K-Sample Test"
   ]
  },
  {
   "cell_type": "markdown",
   "metadata": {},
   "source": [
    "Shows examples for the kernel-based quadratic distance k-sample tests with the Normal kernel and bandwidth\n",
    "parameter h."
   ]
  },
  {
   "cell_type": "code",
   "execution_count": 9,
   "metadata": {},
   "outputs": [
    {
     "name": "stdout",
     "output_type": "stream",
     "text": [
      "0 88\n",
      "0 88\n",
      "0 88\n",
      "88 181\n"
     ]
    },
    {
     "ename": "ValueError",
     "evalue": "matmul: Input operand 1 has a mismatch in its core dimension 0, with gufunc signature (n?,k),(k,m?)->(n?,m?) (size 93 is different from 88)",
     "output_type": "error",
     "traceback": [
      "\u001b[0;31m---------------------------------------------------------------------------\u001b[0m",
      "\u001b[0;31mValueError\u001b[0m                                Traceback (most recent call last)",
      "Cell \u001b[0;32mIn[9], line 6\u001b[0m\n\u001b[1;32m      3\u001b[0m X \u001b[38;5;241m=\u001b[39m np\u001b[38;5;241m.\u001b[39mrandom\u001b[38;5;241m.\u001b[39mrandn(\u001b[38;5;241m500\u001b[39m, \u001b[38;5;241m4\u001b[39m)\n\u001b[1;32m      4\u001b[0m y \u001b[38;5;241m=\u001b[39m np\u001b[38;5;241m.\u001b[39mrandom\u001b[38;5;241m.\u001b[39mrandint(\u001b[38;5;241m0\u001b[39m, \u001b[38;5;241m5\u001b[39m, \u001b[38;5;241m500\u001b[39m)\n\u001b[0;32m----> 6\u001b[0m k_sample_test \u001b[38;5;241m=\u001b[39m \u001b[43mKernelTest\u001b[49m\u001b[43m(\u001b[49m\u001b[43mh\u001b[49m\u001b[38;5;241;43m=\u001b[39;49m\u001b[38;5;241;43m1.5\u001b[39;49m\u001b[43m,\u001b[49m\u001b[43m \u001b[49m\u001b[43mmethod\u001b[49m\u001b[38;5;241;43m=\u001b[39;49m\u001b[38;5;124;43m\"\u001b[39;49m\u001b[38;5;124;43msubsampling\u001b[39;49m\u001b[38;5;124;43m\"\u001b[39;49m\u001b[43m)\u001b[49m\u001b[38;5;241;43m.\u001b[39;49m\u001b[43mtest\u001b[49m\u001b[43m(\u001b[49m\u001b[43mX\u001b[49m\u001b[43m,\u001b[49m\u001b[43m \u001b[49m\u001b[43my\u001b[49m\u001b[43m)\u001b[49m\n\u001b[1;32m      8\u001b[0m \u001b[38;5;28mprint\u001b[39m(\u001b[38;5;124m\"\u001b[39m\u001b[38;5;124mTest : \u001b[39m\u001b[38;5;132;01m{}\u001b[39;00m\u001b[38;5;124m\"\u001b[39m\u001b[38;5;241m.\u001b[39mformat(k_sample_test\u001b[38;5;241m.\u001b[39mtest_type_))\n\u001b[1;32m      9\u001b[0m \u001b[38;5;28mprint\u001b[39m(\u001b[38;5;124m\"\u001b[39m\u001b[38;5;124mExecution time: \u001b[39m\u001b[38;5;132;01m{:.3f}\u001b[39;00m\u001b[38;5;124m seconds\u001b[39m\u001b[38;5;124m\"\u001b[39m\u001b[38;5;241m.\u001b[39mformat(k_sample_test\u001b[38;5;241m.\u001b[39mexecution_time))\n",
      "File \u001b[0;32m~/Library/CloudStorage/Box-Box/GitHub/QuadratiK/QuadratiK/tools/_utils.py:183\u001b[0m, in \u001b[0;36mclass_method_call_timing.<locals>.wrapper\u001b[0;34m(*args, **kwargs)\u001b[0m\n\u001b[1;32m    180\u001b[0m \u001b[38;5;129m@wraps\u001b[39m(func)\n\u001b[1;32m    181\u001b[0m \u001b[38;5;28;01mdef\u001b[39;00m \u001b[38;5;21mwrapper\u001b[39m(\u001b[38;5;241m*\u001b[39margs, \u001b[38;5;241m*\u001b[39m\u001b[38;5;241m*\u001b[39mkwargs):\n\u001b[1;32m    182\u001b[0m     start_time \u001b[38;5;241m=\u001b[39m time\u001b[38;5;241m.\u001b[39mtime()\n\u001b[0;32m--> 183\u001b[0m     result \u001b[38;5;241m=\u001b[39m \u001b[43mfunc\u001b[49m\u001b[43m(\u001b[49m\u001b[38;5;241;43m*\u001b[39;49m\u001b[43margs\u001b[49m\u001b[43m,\u001b[49m\u001b[43m \u001b[49m\u001b[38;5;241;43m*\u001b[39;49m\u001b[38;5;241;43m*\u001b[39;49m\u001b[43mkwargs\u001b[49m\u001b[43m)\u001b[49m\n\u001b[1;32m    184\u001b[0m     end_time \u001b[38;5;241m=\u001b[39m time\u001b[38;5;241m.\u001b[39mtime()\n\u001b[1;32m    185\u001b[0m     execution_time \u001b[38;5;241m=\u001b[39m end_time \u001b[38;5;241m-\u001b[39m start_time\n",
      "File \u001b[0;32m~/Library/CloudStorage/Box-Box/GitHub/QuadratiK/QuadratiK/kernel_test/_kernel_test.py:399\u001b[0m, in \u001b[0;36mKernelTest.test\u001b[0;34m(self, x, y)\u001b[0m\n\u001b[1;32m    388\u001b[0m \u001b[38;5;28;01mif\u001b[39;00m \u001b[38;5;28mself\u001b[39m\u001b[38;5;241m.\u001b[39mh \u001b[38;5;129;01mis\u001b[39;00m \u001b[38;5;28;01mNone\u001b[39;00m:\n\u001b[1;32m    389\u001b[0m     \u001b[38;5;28mself\u001b[39m\u001b[38;5;241m.\u001b[39mh \u001b[38;5;241m=\u001b[39m select_h(\n\u001b[1;32m    390\u001b[0m         \u001b[38;5;28mself\u001b[39m\u001b[38;5;241m.\u001b[39mx,\n\u001b[1;32m    391\u001b[0m         \u001b[38;5;28mself\u001b[39m\u001b[38;5;241m.\u001b[39my,\n\u001b[0;32m   (...)\u001b[0m\n\u001b[1;32m    396\u001b[0m         n_jobs\u001b[38;5;241m=\u001b[39m\u001b[38;5;28mself\u001b[39m\u001b[38;5;241m.\u001b[39mn_jobs,\n\u001b[1;32m    397\u001b[0m     )[\u001b[38;5;241m0\u001b[39m]\n\u001b[0;32m--> 399\u001b[0m statistic \u001b[38;5;241m=\u001b[39m \u001b[43mstat_ksample\u001b[49m\u001b[43m(\u001b[49m\u001b[38;5;28;43mself\u001b[39;49m\u001b[38;5;241;43m.\u001b[39;49m\u001b[43mx\u001b[49m\u001b[43m,\u001b[49m\u001b[43m \u001b[49m\u001b[38;5;28;43mself\u001b[39;49m\u001b[38;5;241;43m.\u001b[39;49m\u001b[43my\u001b[49m\u001b[43m,\u001b[49m\u001b[43m \u001b[49m\u001b[38;5;28;43mself\u001b[39;49m\u001b[38;5;241;43m.\u001b[39;49m\u001b[43mh\u001b[49m\u001b[43m)\u001b[49m\n\u001b[1;32m    400\u001b[0m cv \u001b[38;5;241m=\u001b[39m cv_ksample(\n\u001b[1;32m    401\u001b[0m     \u001b[38;5;28mself\u001b[39m\u001b[38;5;241m.\u001b[39mx,\n\u001b[1;32m    402\u001b[0m     \u001b[38;5;28mself\u001b[39m\u001b[38;5;241m.\u001b[39my,\n\u001b[0;32m   (...)\u001b[0m\n\u001b[1;32m    409\u001b[0m     \u001b[38;5;28mself\u001b[39m\u001b[38;5;241m.\u001b[39mn_jobs,\n\u001b[1;32m    410\u001b[0m )\n\u001b[1;32m    412\u001b[0m h0 \u001b[38;5;241m=\u001b[39m statistic[:\u001b[38;5;241m2\u001b[39m] \u001b[38;5;241m/\u001b[39m np\u001b[38;5;241m.\u001b[39msqrt(statistic[\u001b[38;5;241m2\u001b[39m:]) \u001b[38;5;241m>\u001b[39m cv \u001b[38;5;241m/\u001b[39m np\u001b[38;5;241m.\u001b[39msqrt(\n\u001b[1;32m    413\u001b[0m     statistic[\u001b[38;5;241m2\u001b[39m:]\n\u001b[1;32m    414\u001b[0m )\n",
      "File \u001b[0;32m~/Library/CloudStorage/Box-Box/GitHub/QuadratiK/QuadratiK/kernel_test/_utils.py:391\u001b[0m, in \u001b[0;36mstat_ksample\u001b[0;34m(x, y, h)\u001b[0m\n\u001b[1;32m    388\u001b[0m         \u001b[38;5;28;01mif\u001b[39;00m (sizes[l] \u001b[38;5;241m>\u001b[39m \u001b[38;5;241m0\u001b[39m) \u001b[38;5;129;01mand\u001b[39;00m (sizes[r] \u001b[38;5;241m>\u001b[39m \u001b[38;5;241m0\u001b[39m):\n\u001b[1;32m    389\u001b[0m             tn \u001b[38;5;241m-\u001b[39m\u001b[38;5;241m=\u001b[39m \u001b[38;5;241m2\u001b[39m \u001b[38;5;241m*\u001b[39m k_lr\u001b[38;5;241m.\u001b[39msum() \u001b[38;5;241m/\u001b[39m (sizes[l] \u001b[38;5;241m*\u001b[39m sizes[r])\n\u001b[0;32m--> 391\u001b[0m var1, var2 \u001b[38;5;241m=\u001b[39m \u001b[43mvariance_k_sample_test\u001b[49m\u001b[43m(\u001b[49m\u001b[43mk_center\u001b[49m\u001b[43m,\u001b[49m\u001b[43m \u001b[49m\u001b[43msizes\u001b[49m\u001b[43m,\u001b[49m\u001b[43m \u001b[49m\u001b[43mcum_size\u001b[49m\u001b[43m)\u001b[49m\n\u001b[1;32m    392\u001b[0m stat1 \u001b[38;5;241m=\u001b[39m (k \u001b[38;5;241m-\u001b[39m \u001b[38;5;241m1\u001b[39m) \u001b[38;5;241m*\u001b[39m trace_k \u001b[38;5;241m+\u001b[39m tn\n\u001b[1;32m    393\u001b[0m stat2 \u001b[38;5;241m=\u001b[39m trace_k\n",
      "File \u001b[0;32m~/Library/CloudStorage/Box-Box/GitHub/QuadratiK/QuadratiK/kernel_test/_utils.py:234\u001b[0m, in \u001b[0;36mvariance_k_sample_test\u001b[0;34m(k_cen, sizes, cum_size)\u001b[0m\n\u001b[1;32m    232\u001b[0m \u001b[38;5;28;01mif\u001b[39;00m j \u001b[38;5;241m>\u001b[39m i:\n\u001b[1;32m    233\u001b[0m     C2 \u001b[38;5;241m+\u001b[39m\u001b[38;5;241m=\u001b[39m \u001b[38;5;241m8\u001b[39m \u001b[38;5;241m*\u001b[39m n_ij_factor \u001b[38;5;241m*\u001b[39m n_ij_factor \u001b[38;5;241m*\u001b[39m (k_ij\u001b[38;5;241m*\u001b[39m\u001b[38;5;241m*\u001b[39m\u001b[38;5;241m2\u001b[39m)\u001b[38;5;241m.\u001b[39msum()\n\u001b[0;32m--> 234\u001b[0m     C3 \u001b[38;5;241m-\u001b[39m\u001b[38;5;241m=\u001b[39m \u001b[38;5;241m8\u001b[39m \u001b[38;5;241m*\u001b[39m n_ij_factor \u001b[38;5;241m*\u001b[39m ni_factor \u001b[38;5;241m*\u001b[39m (\u001b[43mk_ii\u001b[49m\u001b[43m \u001b[49m\u001b[38;5;241;43m@\u001b[39;49m\u001b[43m \u001b[49m\u001b[43mk_ij\u001b[49m\u001b[38;5;241;43m.\u001b[39;49m\u001b[43mT\u001b[49m)\u001b[38;5;241m.\u001b[39msum()\n\u001b[1;32m    236\u001b[0m \u001b[38;5;28;01melif\u001b[39;00m j \u001b[38;5;241m<\u001b[39m i:\n\u001b[1;32m    237\u001b[0m     C3 \u001b[38;5;241m-\u001b[39m\u001b[38;5;241m=\u001b[39m \u001b[38;5;241m8\u001b[39m \u001b[38;5;241m*\u001b[39m n_ij_factor \u001b[38;5;241m*\u001b[39m ni_factor \u001b[38;5;241m*\u001b[39m (k_ii \u001b[38;5;241m@\u001b[39m k_ij\u001b[38;5;241m.\u001b[39mT)\u001b[38;5;241m.\u001b[39msum()\n",
      "\u001b[0;31mValueError\u001b[0m: matmul: Input operand 1 has a mismatch in its core dimension 0, with gufunc signature (n?,k),(k,m?)->(n?,m?) (size 93 is different from 88)"
     ]
    }
   ],
   "source": [
    "from QuadratiK.kernel_test import KernelTest\n",
    "\n",
    "X = np.random.randn(500, 4)\n",
    "y = np.repeat(np.array([1, 2, 3, 4, 5]), 100)\n",
    "\n",
    "k_sample_test = KernelTest(h=1.5, method=\"subsampling\").test(X, y)\n",
    "\n",
    "print(\"Test : {}\".format(k_sample_test.test_type_))\n",
    "print(\"Execution time: {:.3f} seconds\".format(k_sample_test.execution_time))\n",
    "print(\"H0 is Rejected : {}\".format(k_sample_test.un_h0_rejected_))\n",
    "print(\"Test Statistic : {}\".format(k_sample_test.un_test_statistic_))\n",
    "print(\"Critical Value (CV) : {}\".format(k_sample_test.un_cv_))\n",
    "print(\"CV Method : {}\".format(k_sample_test.cv_method_))\n",
    "print(\"Selected tuning parameter : {}\".format(k_sample_test.h))"
   ]
  },
  {
   "cell_type": "code",
   "execution_count": null,
   "metadata": {},
   "outputs": [],
   "source": [
    "y.shape"
   ]
  },
  {
   "cell_type": "code",
   "execution_count": null,
   "metadata": {},
   "outputs": [],
   "source": [
    "print(k_sample_test.summary())"
   ]
  },
  {
   "cell_type": "markdown",
   "metadata": {},
   "source": [
    "## Poisson Kernel Test"
   ]
  },
  {
   "cell_type": "markdown",
   "metadata": {},
   "source": [
    "Shows example for perforing the the kernel-based quadratic distance Goodness-of-fit tests for Uniformity for\n",
    "spherical data using the Poisson kernel with concentration parameter rho."
   ]
  },
  {
   "cell_type": "code",
   "execution_count": null,
   "metadata": {},
   "outputs": [],
   "source": [
    "from QuadratiK.tools import sample_hypersphere\n",
    "from QuadratiK.poisson_kernel_test import PoissonKernelTest\n",
    "\n",
    "X = sample_hypersphere(100, 3, random_state=42)\n",
    "\n",
    "unif_test = PoissonKernelTest(rho=0.7, random_state=42).test(X)\n",
    "\n",
    "print(\"Execution time: {:.3f} seconds\".format(unif_test.execution_time))\n",
    "\n",
    "print(\"U Statistic Results\")\n",
    "print(\"H0 is rejected : {}\".format(unif_test.u_statistic_h0_))\n",
    "print(\"Un Statistic : {}\".format(unif_test.u_statistic_un_))\n",
    "print(\"Critical Value : {}\".format(unif_test.u_statistic_cv_))\n",
    "\n",
    "print(\"V Statistic Results\")\n",
    "print(\"H0 is rejected : {}\".format(unif_test.v_statistic_h0_))\n",
    "print(\"Vn Statistic : {}\".format(unif_test.v_statistic_vn_))\n",
    "print(\"Critical Value : {}\".format(unif_test.v_statistic_cv_))"
   ]
  },
  {
   "cell_type": "code",
   "execution_count": null,
   "metadata": {},
   "outputs": [],
   "source": [
    "print(unif_test.summary())"
   ]
  },
  {
   "cell_type": "markdown",
   "metadata": {},
   "source": [
    "### QQ Plot"
   ]
  },
  {
   "cell_type": "code",
   "execution_count": null,
   "metadata": {},
   "outputs": [],
   "source": [
    "from QuadratiK.tools import qq_plot\n",
    "\n",
    "qq_plot(X, dist=\"uniform\")"
   ]
  },
  {
   "cell_type": "markdown",
   "metadata": {},
   "source": [
    "## Poisson Kernel based Clustering"
   ]
  },
  {
   "cell_type": "markdown",
   "metadata": {},
   "source": [
    "Shows example for performing the Poisson kernel-based clustering algorithm on the Sphere based on\n",
    "the Poisson kernel-based densities."
   ]
  },
  {
   "cell_type": "code",
   "execution_count": null,
   "metadata": {},
   "outputs": [],
   "source": [
    "from QuadratiK.datasets import load_wireless_data\n",
    "from QuadratiK.spherical_clustering import PKBC\n",
    "from sklearn.preprocessing import LabelEncoder\n",
    "\n",
    "X, y = load_wireless_data(return_X_y=True)\n",
    "\n",
    "le = LabelEncoder()\n",
    "le.fit(y)\n",
    "y = le.transform(y)\n",
    "\n",
    "cluster_fit = PKBC(num_clust=4, random_state=42).fit(X)\n",
    "ari, macro_precision, macro_recall, avg_silhouette_Score = cluster_fit.validation(y)\n",
    "\n",
    "print(\"Estimated mixing proportions :\", cluster_fit.alpha_)\n",
    "print(\"Estimated concentration parameters: \", cluster_fit.rho_)\n",
    "\n",
    "print(\"Adjusted Rand Index:\", ari)\n",
    "print(\"Macro Precision:\", macro_precision)\n",
    "print(\"Macro Recall:\", macro_recall)\n",
    "print(\"Average Silhouette Score:\", avg_silhouette_Score)"
   ]
  },
  {
   "cell_type": "markdown",
   "metadata": {},
   "source": [
    "### Elbow Plot using Euclidean Distance and Cosine Similarity based WCSS"
   ]
  },
  {
   "cell_type": "code",
   "execution_count": null,
   "metadata": {},
   "outputs": [],
   "source": [
    "wcss_euc = []\n",
    "wcss_cos = []\n",
    "\n",
    "for i in range(2, 10):\n",
    "    clus_fit = PKBC(num_clust=i).fit(X)\n",
    "    wcss_euc.append(clus_fit.euclidean_wcss_)\n",
    "    wcss_cos.append(clus_fit.cosine_wcss_)\n",
    "\n",
    "fig = plt.figure(figsize=(6, 4))\n",
    "plt.plot(list(range(2, 10)), wcss_euc, \"--o\")\n",
    "plt.xlabel(\"Number of Cluster\")\n",
    "plt.ylabel(\"Within Cluster Sum of Squares (WCSS)\")\n",
    "plt.title(\"Elbow Plot for Wireless Indoor Localization dataset\")\n",
    "plt.show()\n",
    "\n",
    "fig = plt.figure(figsize=(6, 4))\n",
    "plt.plot(list(range(2, 10)), wcss_cos, \"--o\")\n",
    "plt.xlabel(\"Number of Cluster\")\n",
    "plt.ylabel(\"Within Cluster Sum of Squares (WCSS)\")\n",
    "plt.title(\"Elbow Plot for Wireless Indoor Localization dataset\")\n",
    "plt.show()"
   ]
  },
  {
   "cell_type": "markdown",
   "metadata": {},
   "source": [
    "## Density Estimation and Sample Generation from PKBD"
   ]
  },
  {
   "cell_type": "code",
   "execution_count": null,
   "metadata": {},
   "outputs": [],
   "source": [
    "from QuadratiK.spherical_clustering import PKBD\n",
    "\n",
    "pkbd_data = PKBD().rpkb(10, [0.5, 0], 0.5, \"rejvmf\", random_state=42)\n",
    "dens_val = PKBD().dpkb(pkbd_data, [0.5, 0.5], 0.5)\n",
    "print(dens_val)"
   ]
  },
  {
   "cell_type": "markdown",
   "metadata": {},
   "source": [
    "## Tuning Parameter $h$ selection"
   ]
  },
  {
   "cell_type": "markdown",
   "metadata": {},
   "source": [
    "Computes the kernel bandwidth of the Gaussian kernel for the two-sample and ksample\n",
    "kernel-based quadratic distance (KBQD) tests."
   ]
  },
  {
   "cell_type": "code",
   "execution_count": null,
   "metadata": {},
   "outputs": [],
   "source": [
    "from QuadratiK.kernel_test import select_h\n",
    "\n",
    "X = np.random.randn(200, 2)\n",
    "y = np.random.randint(0, 2, 200)\n",
    "\n",
    "h_selected, all_values, power_plot = select_h(\n",
    "    X, y, alternative=\"location\", power_plot=True, random_state=None\n",
    ")\n",
    "print(\"Selected h is: \", h_selected)"
   ]
  },
  {
   "cell_type": "code",
   "execution_count": null,
   "metadata": {},
   "outputs": [],
   "source": [
    "# shows the detailed power vs h table\n",
    "all_values"
   ]
  },
  {
   "cell_type": "code",
   "execution_count": null,
   "metadata": {},
   "outputs": [],
   "source": [
    "# shows the power plot\n",
    "power_plot"
   ]
  }
 ],
 "metadata": {
  "kernelspec": {
   "display_name": "test2",
   "language": "python",
   "name": "python3"
  },
  "language_info": {
   "codemirror_mode": {
    "name": "ipython",
    "version": 3
   },
   "file_extension": ".py",
   "mimetype": "text/x-python",
   "name": "python",
   "nbconvert_exporter": "python",
   "pygments_lexer": "ipython3",
   "version": "3.11.7"
  }
 },
 "nbformat": 4,
 "nbformat_minor": 2
}
